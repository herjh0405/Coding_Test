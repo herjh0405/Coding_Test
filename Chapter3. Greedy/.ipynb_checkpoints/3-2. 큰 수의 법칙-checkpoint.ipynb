{
 "cells": [
  {
   "cell_type": "markdown",
   "metadata": {},
   "source": [
    "다양한 수로 이루어진 배열이 있을 때 주어진 수들을 M번 더하여 가장 큰 수를 만든다.  \n",
    "단, 배열의 특정한 인덱스에 해당하는 수가 연속적으로 K번을 초과하여 더해질 수 없는 것이 이 법칙의 특징이다. "
   ]
  },
  {
   "cell_type": "code",
   "execution_count": 2,
   "metadata": {},
   "outputs": [
    {
     "name": "stdout",
     "output_type": "stream",
     "text": [
      "5 8 3\n",
      "2 4 5 4 6\n",
      "time:  0.0036084651947021484\n",
      "46\n"
     ]
    }
   ],
   "source": [
    "import time\n",
    "n, m, k = map(int, input().split())\n",
    "data = list(map(int, input().split()))\n",
    "\n",
    "st_time = time.time()\n",
    "data.sort()\n",
    "\n",
    "first = data[-1]\n",
    "second = data[-2]\n",
    "\n",
    "cnt = 0 \n",
    "ans = 0\n",
    "for _ in range(m):\n",
    "    if cnt == k :\n",
    "        ans += second\n",
    "        cnt = 0\n",
    "    else : \n",
    "        ans += first\n",
    "        cnt +=1\n",
    "        \n",
    "ed_time = time.time()\n",
    "print('time: ', ed_time - st_time)\n",
    "print(ans)"
   ]
  },
  {
   "cell_type": "markdown",
   "metadata": {},
   "source": [
    "어차피 가장 큰 수를 만들기 위해서는 배열 중 가장 큰 수와 2번째로 큰 수만 사용한다.  \n",
    "고로 first를 K번 썼을 경우에만 second를 한번 사용해주면 해결.\n",
    "\n",
    "<br>\n",
    "이 경우 M이 10,000 이하이므로 간단히 해결되지만 100억 이상 커질 경우 시간 초과가 생길 수 있다.  \n",
    "\n",
    "조금 더 수학적으로 접근해보자. 가장 큰 수가 K번 - 두번째 수가 1번, 반복되는 순열을 가짐을 알 수 있다.  \n",
    "\n",
    "순열 seq = K * first + second  \n",
    "그러므로 int(M/(K+1)) * seq + M % ( K + 1) * K 가 정답이 된다. \n"
   ]
  },
  {
   "cell_type": "code",
   "execution_count": 3,
   "metadata": {},
   "outputs": [
    {
     "name": "stdout",
     "output_type": "stream",
     "text": [
      "5 8 3 \n",
      "2 4 5 4 6\n",
      "time :  0.0010006427764892578\n",
      "46\n"
     ]
    }
   ],
   "source": [
    "n, m, k = map(int, input().split())\n",
    "data = list(map(int, input().split()))\n",
    "\n",
    "st_time = time.time()\n",
    "data.sort()\n",
    "\n",
    "first = data[-1]\n",
    "second = data[-2]\n",
    "\n",
    "seq = k*first + second\n",
    "result = int(m/(k+1))*seq + m%(k+1)*k\n",
    "\n",
    "ed_time = time.time()\n",
    "print('time : ', ed_time -st_time)\n",
    "print(result)"
   ]
  },
  {
   "cell_type": "code",
   "execution_count": null,
   "metadata": {},
   "outputs": [],
   "source": []
  }
 ],
 "metadata": {
  "kernelspec": {
   "display_name": "Python 3",
   "language": "python",
   "name": "python3"
  },
  "language_info": {
   "codemirror_mode": {
    "name": "ipython",
    "version": 3
   },
   "file_extension": ".py",
   "mimetype": "text/x-python",
   "name": "python",
   "nbconvert_exporter": "python",
   "pygments_lexer": "ipython3",
   "version": "3.8.5"
  }
 },
 "nbformat": 4,
 "nbformat_minor": 4
}
