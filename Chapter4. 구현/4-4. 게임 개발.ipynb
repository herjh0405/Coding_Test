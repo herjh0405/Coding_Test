{
 "cells": [
  {
   "cell_type": "markdown",
   "id": "10fd8810",
   "metadata": {},
   "source": [
    "캐릭터가 있는 장소는 1 X 1 크기의 정사각형으로 이루어진 N X M 크기의 직사각형으로, 각각의 칸은 육지 또는 바다이다. 캐릭터는 동서남북 중 한 곳을 바라본다.  \n",
    "맵의 각 칸은 (A, B)로 나타낼 수 있고, A는 북쪽으로부터 떨어진 칸의 개수, B는 서쪽으로부터 떨어진 칸의 개수이다. 캐릭터는 상하좌우로 움직일 수 있고, 바다로 되어 있는 공간에는 갈 수 없다.\n",
    "\n",
    "캐릭터의 움직임은 아래처럼 설정 된다.  \n",
    "1. 현재 위치에서 현재 방향을 기준으로 왼쪽 방향부터 차례대로 갈 곳을 정한다.  \n",
    "2. 캐릭터의 바로 왼쪽 방향에 아직 가보지 못한 칸이 존재한다면, 왼쪽 방향으로 회전한 다음 왼쪽으로 한 칸을 전진한다. 왼쪽 방향에 가보지 않은 칸이 없다면, 왼쪽 방향으로 회전만 수행하고 1단계로 돌아간다.  \n",
    "3. 만약 네 방향 모두 이미 가본 칸이거나 바다로 되어 있는 칸인 경우에는, 바라보는 방향을 유지한 채로 한 칸 뒤로 가고 1단계로 돌아간다. 단, 이때 뒤쪽 방향이 바다인 칸이라 뒤로 갈 수없는 경우에는 움직임을 멈춘다.  \n",
    "\n",
    "매뉴얼에 따라 캐릭터를 이동시킨 뒤에, 캐릭터가 방문한 칸의 수를 출력하시오.  \n",
    "방향 d의 값은 다음과 같다.\n",
    "0:북쪽, 1:동쪽, 2:남쪽, 3:서쪽  \n",
    "맵의 상태에서 0은 육지를, 1은 바다를 의미한다.  \n",
    "맵의 외곽은 항상 바다이고, 맨 처음 캐릭터가 위치한 곳은 항상 육지이다."
   ]
  },
  {
   "cell_type": "code",
   "execution_count": 2,
   "id": "2761dc67",
   "metadata": {},
   "outputs": [
    {
     "name": "stdout",
     "output_type": "stream",
     "text": [
      "4 4\n",
      "1 1 0\n",
      "1 1 1 1\n",
      "1 0 0 1\n",
      "1 1 0 1\n",
      "1 1 1 1\n",
      "3\n"
     ]
    }
   ],
   "source": [
    "# 맵 크기 설정\n",
    "n, m = map(int, input().split())\n",
    "# 유저의 위치 설정\n",
    "x, y, direction = map(int, input().split())\n",
    "# 맵 생성 : list comprehension(2차원 리스트 선언 시 상당히 효율적)\n",
    "d = [[0]*m for _ in range(n)]\n",
    "\n",
    "# 서 있는 곳 표시\n",
    "d[x][y] = 1\n",
    "# 맵 정보 입력\n",
    "array = []\n",
    "for i in range(n):\n",
    "    array.append(list(map(int, input().split())))\n",
    "    \n",
    "# 북, 동, 남, 서 방향 정의\n",
    "dx = [-1, 0, 1, 0]\n",
    "dy = [0, 1, 0, -1]\n",
    "\n",
    "# 왼쪽으로 회전하는 함수\n",
    "def turn_left():\n",
    "    global direction\n",
    "    direction -= 1\n",
    "    if direction == -1 :\n",
    "        direction = 3\n",
    "        \n",
    "# 시물레이션 시작\n",
    "count = 1 # 결과값\n",
    "turn_time = 0 # 회전하는 횟수\n",
    "while True :\n",
    "    turn_left()\n",
    "    nx = x + dx[direction]\n",
    "    ny = y + dy[direction]\n",
    "    # 육지이며 가본 적이 없는 지 체크\n",
    "    if d[nx][ny]==0 and array[nx][ny] ==0 :\n",
    "        d[nx][ny] = 1\n",
    "        x = nx\n",
    "        y = ny\n",
    "        count += 1\n",
    "        turn_time = 0\n",
    "        continue\n",
    "    else :\n",
    "        turn_time += 1\n",
    "    # 네 방향 모두 갈 수 없을 경우 \n",
    "    if turn_time == 4 :\n",
    "        nx = x - dx[direction]\n",
    "        ny = y - dy[direction]\n",
    "        if array[nx][ny] == 0 :\n",
    "            x = nx\n",
    "            y = ny\n",
    "        else :\n",
    "            break\n",
    "        turn_time = 0\n",
    "        \n",
    "print(count)"
   ]
  },
  {
   "cell_type": "code",
   "execution_count": null,
   "id": "bc8e12d8",
   "metadata": {},
   "outputs": [],
   "source": []
  }
 ],
 "metadata": {
  "kernelspec": {
   "display_name": "Python 3",
   "language": "python",
   "name": "python3"
  },
  "language_info": {
   "codemirror_mode": {
    "name": "ipython",
    "version": 3
   },
   "file_extension": ".py",
   "mimetype": "text/x-python",
   "name": "python",
   "nbconvert_exporter": "python",
   "pygments_lexer": "ipython3",
   "version": "3.9.2"
  }
 },
 "nbformat": 4,
 "nbformat_minor": 5
}
