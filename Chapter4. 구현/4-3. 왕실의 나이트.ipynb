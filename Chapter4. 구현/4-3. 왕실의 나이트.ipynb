{
 "cells": [
  {
   "cell_type": "markdown",
   "id": "e7d3199c",
   "metadata": {},
   "source": [
    "행복 왕국의 왕실 정원은 체스판과 같은 8 X 8 좌표 평면이다. 왕실 정원의 특별한 한 칸에 나이트가 서 있다.  \n",
    "나이트는 말을 타고 있기 떄문에 이동을 할 때는 L자 형태로만 이동할 수 있으며 정원 밖으로는 나갈 수 없다.   \n",
    "나이트의 위치가 주어졌을 떄 나이트가 이동할 수 있는 경우의 수를 출력하는 프로그램을 작성하시오.  \n",
    "이때 왕실의 정원에서 행 위치를 표현할 때는 1부터 8로 표현하며, 열 위치를 표현할 때는 a부터 h로 표현한다.  "
   ]
  },
  {
   "cell_type": "code",
   "execution_count": 20,
   "id": "5b81f80e",
   "metadata": {},
   "outputs": [
    {
     "name": "stdout",
     "output_type": "stream",
     "text": [
      "a1\n",
      "2\n"
     ]
    }
   ],
   "source": [
    "# 현재 나이트의 위치 입력받기\n",
    "loc = list(input()) # input = a1\n",
    "to_num = ['a', 'b', 'c', 'd', 'e', 'f']\n",
    "\n",
    "col = to_num.index(loc[0]) + 1\n",
    "row = int(loc[1])\n",
    "\n",
    "# 나이트가 이동할 수 있는 8가지 방향 정의\n",
    "steps = [\n",
    "    (-2, -1), (-2, 1), (2, 1), (2, -1),\n",
    "    (-1, -2), (-1, 2), (1, 2), (1, -2)\n",
    "]\n",
    "\n",
    "# 8가지 방향에 대하여 각 위치로 이동이 가능한지 확인\n",
    "result = 0 \n",
    "for step in steps :\n",
    "    next_row = row + step[1]\n",
    "    next_col = col + step[0]\n",
    "     \n",
    "    # 해당 위치로 이동이 가능하다면 카운트 증가\n",
    "    if next_row >=1 and next_row <=8 and next_col >=1 and next_col <= 8 :\n",
    "        result += 1\n",
    "        \n",
    "print(result) # result = 2"
   ]
  },
  {
   "cell_type": "markdown",
   "id": "d63e8f05",
   "metadata": {},
   "source": [
    "상하좌우 문제와 비슷하다. 경로를 확인해주는 과정이 꼼꼼하게 필요, (dx, dy)와 steps 모두 쓰이는 형태"
   ]
  },
  {
   "cell_type": "code",
   "execution_count": null,
   "id": "920fd385",
   "metadata": {},
   "outputs": [],
   "source": []
  }
 ],
 "metadata": {
  "kernelspec": {
   "display_name": "Python 3",
   "language": "python",
   "name": "python3"
  },
  "language_info": {
   "codemirror_mode": {
    "name": "ipython",
    "version": 3
   },
   "file_extension": ".py",
   "mimetype": "text/x-python",
   "name": "python",
   "nbconvert_exporter": "python",
   "pygments_lexer": "ipython3",
   "version": "3.9.2"
  }
 },
 "nbformat": 4,
 "nbformat_minor": 5
}