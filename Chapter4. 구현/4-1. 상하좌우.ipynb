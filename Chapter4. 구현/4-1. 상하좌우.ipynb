{
 "cells": [
  {
   "cell_type": "markdown",
   "id": "a937c72b",
   "metadata": {},
   "source": [
    "구현이란 '머릿속에 있는 알고리즘을 소스코드로 바꾸는 과정'이다.\n",
    "풀이를 떠올리는 것은 쉽지만 소스코드로 옮기기는 어려운 문제를 칭함. 흔히 '피지컬을 요구하는' 문제라고 할 수 있다.\n",
    "* 알고리즘은 간단한데 코드가 지나칠 만큼 길어지는 문제\n",
    "* 특정 소수점 자리까지 출력해야 하는 문제r\n",
    "* 문자열이 입력으로 주어졌을 때 한 문자 단위로 끊어서 리스트에 넣어야 하는 문제\n",
    "등이 있다. 사소한 조건 설정이 많은 문자일 수록 코드로 구현하기가 까다롭다. \n",
    "**완전 탐색** : 모든 경우의 수를 주저 없이 다 계산하는 해결 방법\n",
    "**시물레이션** : 문제에서 제시한 알고리즘을 한 단계씩 차례대로 직접 수행"
   ]
  },
  {
   "cell_type": "markdown",
   "id": "b4232896",
   "metadata": {},
   "source": [
    "여행자 A는 N X N 크기의 정사각형 공간 위에 서 있다.  \n",
    "이 공간은 1 X 1 크기의 정사각형으로 나누어져 있다. 가장 왼쪽 위 좌표는 (1, 1)이며, 가장 오른쪽 아래 좌표는 (N, N)에 해당한다.  \n",
    "여행자 A는 상하좌우로만 이동할 수 있고, 시작은 항상 (1, 1)이다. 우리 앞에는 A의 이동 계획서가 놓여져 있고, N X N 크기의 정사각형 공간을 벗어나는 움직임은 무시된다.  \n",
    "계획서가 주어졌을 때 여행가 A가 최종적으로 도착할 지점의 좌표를 출력하는 프로그램을 작성하시오."
   ]
  },
  {
   "cell_type": "code",
   "execution_count": 3,
   "id": "cb9c2202",
   "metadata": {},
   "outputs": [
    {
     "name": "stdout",
     "output_type": "stream",
     "text": [
      "3 4\n"
     ]
    }
   ],
   "source": [
    "n = int(input())\n",
    "plans = input().split()\n",
    "\n",
    "x, y = 1, 1\n",
    "\n",
    "# L, R, U, D에 따른 이동 방향\n",
    "dx = [0, 0, -1, 1]\n",
    "dy = [-1, 1, 0, 0]\n",
    "move_types = ['L', 'R', 'U', 'D']\n",
    "\n",
    "# 이동 계획을 하나씩 확인\n",
    "for plan in plans :\n",
    "    for i in range(len(move_types)):\n",
    "        if plan == move_types[i] :\n",
    "            nx = x + dx[i]\n",
    "            ny = y + dy[i]\n",
    "    # 공간을 벗어나는 경우 무시\n",
    "    if nx < 1 or ny < 1 or nx > n or ny > n :\n",
    "        continue\n",
    "    # 이동 수행\n",
    "    x, y = nx, ny\n",
    "    \n",
    "print(x, y)"
   ]
  },
  {
   "cell_type": "markdown",
   "id": "6d585179",
   "metadata": {},
   "source": [
    "dx, dy가 핵심"
   ]
  },
  {
   "cell_type": "code",
   "execution_count": null,
   "id": "2b97fd44",
   "metadata": {},
   "outputs": [],
   "source": []
  },
  {
   "cell_type": "code",
   "execution_count": null,
   "id": "73618b91",
   "metadata": {},
   "outputs": [],
   "source": []
  },
  {
   "cell_type": "code",
   "execution_count": null,
   "id": "06e766a2",
   "metadata": {},
   "outputs": [],
   "source": []
  }
 ],
 "metadata": {
  "kernelspec": {
   "display_name": "Python 3",
   "language": "python",
   "name": "python3"
  },
  "language_info": {
   "codemirror_mode": {
    "name": "ipython",
    "version": 3
   },
   "file_extension": ".py",
   "mimetype": "text/x-python",
   "name": "python",
   "nbconvert_exporter": "python",
   "pygments_lexer": "ipython3",
   "version": "3.9.2"
  }
 },
 "nbformat": 4,
 "nbformat_minor": 5
}