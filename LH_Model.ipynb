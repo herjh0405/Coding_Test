{
  "nbformat": 4,
  "nbformat_minor": 0,
  "metadata": {
    "colab": {
      "name": "LH_Model.ipynb",
      "private_outputs": true,
      "provenance": [],
      "collapsed_sections": [],
      "authorship_tag": "ABX9TyNtTszBeQFat8PtLpVE1TM3",
      "include_colab_link": true
    },
    "kernelspec": {
      "name": "python3",
      "display_name": "Python 3"
    },
    "language_info": {
      "name": "python"
    }
  },
  "cells": [
    {
      "cell_type": "markdown",
      "metadata": {
        "id": "view-in-github",
        "colab_type": "text"
      },
      "source": [
        "<a href=\"https://colab.research.google.com/github/herjh0405/Coding_Test/blob/master/LH_Model.ipynb\" target=\"_parent\"><img src=\"https://colab.research.google.com/assets/colab-badge.svg\" alt=\"Open In Colab\"/></a>"
      ]
    },
    {
      "cell_type": "markdown",
      "metadata": {
        "id": "Hm5y2Y_BpgC2"
      },
      "source": [
        "# DACON 한국토지주택공사\n",
        "구내식당 식수 인원 예측 AI 경진대회"
      ]
    },
    {
      "cell_type": "markdown",
      "metadata": {
        "id": "dvUowtJAH5n6"
      },
      "source": [
        "## 환경 설정"
      ]
    },
    {
      "cell_type": "markdown",
      "metadata": {
        "id": "ru2z8ZHQhusV"
      },
      "source": [
        "### 필요 Model Install"
      ]
    },
    {
      "cell_type": "code",
      "metadata": {
        "id": "b3EwLU2uhsNi"
      },
      "source": [
        "!pip install pycaret\n",
        "!pip install konlpy"
      ],
      "execution_count": null,
      "outputs": []
    },
    {
      "cell_type": "markdown",
      "metadata": {
        "id": "LADw0fTYaeGh"
      },
      "source": [
        "### Google Drive Mount"
      ]
    },
    {
      "cell_type": "code",
      "metadata": {
        "id": "5lze7HIfZh5_"
      },
      "source": [
        "from google.colab import drive\n",
        "drive.mount('/content/drive')"
      ],
      "execution_count": null,
      "outputs": []
    },
    {
      "cell_type": "markdown",
      "metadata": {
        "id": "HbIFRUlvahow"
      },
      "source": [
        "### Import Library"
      ]
    },
    {
      "cell_type": "code",
      "metadata": {
        "id": "nlUlKe5yacL1"
      },
      "source": [
        "import pandas as pd\n",
        "import numpy as np\n",
        "import datetime as dt\n",
        "np.random.seed(0)\n",
        "\n",
        "from pycaret.regression import *\n",
        "from sklearn.preprocessing import LabelEncoder\n",
        "from sklearn.metrics import roc_auc_score, log_loss\n",
        "\n",
        "from tqdm.notebook import tqdm\n",
        "from konlpy.tag import Kkma\n",
        "\n",
        "import torch\n",
        "import os, re\n",
        "\n",
        "# # 한글 폰트 사용\n",
        "# !pip install matplotlib -U\n",
        "\n",
        "# !sudo apt-get install -y fonts-nanum\n",
        "# !sudo fc-cache -fv\n",
        "# !rm ~/.cache/matplotlib -rf\n",
        "\n",
        "# import matplotlib.pyplot as plt\n",
        "\n",
        "# plt.rcParams['font.family']=['NanumGothic', 'sans-serif']\n",
        "# plt.rcParams['axes.unicode_minus'] = False\n",
        "# %matplotlib inline"
      ],
      "execution_count": null,
      "outputs": []
    },
    {
      "cell_type": "code",
      "metadata": {
        "id": "4SZEtPK2uyAU"
      },
      "source": [
        "# 한글 폰트 사용\n",
        "import matplotlib\n",
        "import matplotlib.pyplot as plt\n",
        "import matplotlib.font_manager as fm\n",
        "import os\n",
        "\n",
        "def change_matplotlib_font(font_download_url):\n",
        "    FONT_PATH = 'MY_FONT'\n",
        "    \n",
        "    font_download_cmd = f\"wget {font_download_url} -O {FONT_PATH}.zip\"\n",
        "    unzip_cmd = f\"unzip -o {FONT_PATH}.zip -d {FONT_PATH}\"\n",
        "    os.system(font_download_cmd)\n",
        "    os.system(unzip_cmd)\n",
        "    \n",
        "    font_files = fm.findSystemFonts(fontpaths=FONT_PATH)\n",
        "    for font_file in font_files:\n",
        "        fm.fontManager.addfont(font_file)\n",
        "\n",
        "    font_name = fm.FontProperties(fname=font_files[0]).get_name()\n",
        "    matplotlib.rc('font', family=font_name)\n",
        "    print(\"font family: \", plt.rcParams['font.family'])\n",
        "\n",
        "font_download_url = \"https://fonts.google.com/download?family=Noto%20Sans%20KR\"\n",
        "change_matplotlib_font(font_download_url)"
      ],
      "execution_count": null,
      "outputs": []
    },
    {
      "cell_type": "markdown",
      "metadata": {
        "id": "CEEaGNy6IAK-"
      },
      "source": [
        "## Data Preprocessing"
      ]
    },
    {
      "cell_type": "markdown",
      "metadata": {
        "id": "TPiDXLklamsN"
      },
      "source": [
        "### Load Data"
      ]
    },
    {
      "cell_type": "code",
      "metadata": {
        "id": "xVhY8T5mcBtJ"
      },
      "source": [
        "path = '/content/drive/MyDrive/구내식당/water/'\n",
        "train = pd.read_csv(path+'train.csv')\n",
        "test = pd.read_csv(path+'test.csv')\n",
        "holiday = pd.read_csv(path+'holidays.csv', index_col=0)\n",
        "corona = pd.read_csv(path+'corona_data.csv')\n",
        "\n",
        "df = pd.concat([train.iloc[:, :-2], test])\n",
        "target_df = train.iloc[:, -2:]\n",
        "df.columns = ['일자', '요일', '정원','휴가자', '출장자', '야근자',\\\n",
        "                 '재택근무자', '조식', '중식', '석식']"
      ],
      "execution_count": null,
      "outputs": []
    },
    {
      "cell_type": "markdown",
      "metadata": {
        "id": "523YidwQiqDv"
      },
      "source": [
        "### 년, 월, 일 컬럼 생성"
      ]
    },
    {
      "cell_type": "code",
      "metadata": {
        "id": "le95ZzxcamND"
      },
      "source": [
        "df['재택근무자'] = df['재택근무자'].astype('int')\n",
        "\n",
        "df['일자'] = pd.to_datetime(df['일자'])\n",
        "df['년'] = df['일자'].dt.year\n",
        "df['월'] = df['일자'].dt.month\n",
        "df['일'] = df['일자'].dt.day\n",
        "df['월일'] = df['일자'].apply(lambda x : str(x)[5:10])"
      ],
      "execution_count": null,
      "outputs": []
    },
    {
      "cell_type": "markdown",
      "metadata": {
        "id": "z3lyskx-ZTV8"
      },
      "source": [
        "### 공휴일 데이터 추가\n",
        "* Only_공휴일 전후 컬럼\n",
        "* 공휴일+휴일 전후 컬럼 추가"
      ]
    },
    {
      "cell_type": "code",
      "metadata": {
        "id": "P_9WPdeYw_OJ"
      },
      "source": [
        "holiday['date'] = pd.to_datetime(holiday['date'])\n",
        "\n",
        "df['only_before_holiday'] = df['일자'].apply(lambda x : 1 if (x+dt.timedelta(1) in holiday['date'].tolist()) else 0)\n",
        "df['only_after_holiday'] = df['일자'].apply(lambda x : 1 if (x-dt.timedelta(1) in holiday['date'].tolist()) else 0)\n",
        "\n",
        "df['before_holiday'] = df['일자'].apply(lambda x : 1 if (x+dt.timedelta(1) in holiday['date'].tolist())\\\n",
        "                                      or ((x+dt.timedelta(1)).weekday() == 5) or ((x+dt.timedelta(1)).weekday() == 6) else 0)\n",
        "df['after_holiday'] = df['일자'].apply(lambda x : 1 if (x-dt.timedelta(1) in holiday['date'].tolist())\\\n",
        "                                     or ((x-dt.timedelta(1)).weekday() == 5) or ((x-dt.timedelta(1)).weekday() == 6) else 0)\n",
        "\n",
        "train = pd.concat([df.iloc[:train.shape[0],:], target_df], axis=1)"
      ],
      "execution_count": null,
      "outputs": []
    },
    {
      "cell_type": "markdown",
      "metadata": {
        "id": "pmqcRC8tnkkQ"
      },
      "source": [
        "## 데이터 시각화\n",
        "* 시간에 따른 time_col의 변화를 관찰\n",
        "    * time_col : `'정원', '휴가자', '출장자', '야근자', '재택근무자', '중식계', '석식계'`\n",
        "\n",
        "* 삼성 SDS에서 실시한 적이 있는 대회라고 함\n",
        "    * RNN에서 휴가와 날씨에 가중치를 둬서 좋은 결과를 냈다고 함 -> 참고하면 좋을 듯\n",
        "    * 일기예보 데이터를 사용해보는 건 어떨까?\n",
        "\n",
        "<br>\n",
        "\n",
        "### 가설 1. 재택근무는 코로나 때문에 생겼을 것이다.\n",
        "* 코로나 이전과 이후로, 식수 인원이 큰 차이가 있을 것이다\n",
        "\n",
        "<br>\n",
        "\n",
        "### 가설 2. 날씨가 큰 영향을 미칠것이다\n",
        "* 월별, 계절별 데이터가 차이날 것\n",
        "\n",
        "\n",
        "<br>\n",
        "\n",
        "### 궁금증 1. 조식이 과연 의미가 있을까?\n",
        "* 일단 없을거라 생각되지만 확인하기 어려움\n",
        "    * 조식 아침 8시 제공\n",
        "    * 하루 본사 2명 숙직 18-익일09시\n",
        "    * 점심 1140-1300, 저녁 1800-\n",
        "        * 1140-1210 정도로 생각하라고 함\n"
      ]
    },
    {
      "cell_type": "code",
      "metadata": {
        "id": "Zzag87ZqbBpN"
      },
      "source": [
        "time_col = ['정원', '휴가자', '출장자', '야근자', '재택근무자', '중식계', '석식계']"
      ],
      "execution_count": null,
      "outputs": []
    },
    {
      "cell_type": "code",
      "metadata": {
        "id": "8jGRTAFol_f4"
      },
      "source": [
        "plt.figure(figsize=(10, 8))\n",
        "for col in time_col : \n",
        "    plt.plot(train['일자'], train[col], label=col)\n",
        "\n",
        "plt.xlabel('날짜(일)', fontsize=10)\n",
        "plt.ylabel('인원 수', fontsize=10)\n",
        "plt.title('날짜 별 인원 수', fontsize=15)\n",
        "plt.legend('best', labels=time_col)\n",
        "plt.show()"
      ],
      "execution_count": null,
      "outputs": []
    },
    {
      "cell_type": "code",
      "metadata": {
        "id": "8xAIoS-4nHBM"
      },
      "source": [
        "df['요일'] = df['일자'].dt.weekday\n",
        "df['야근_가능'] = df['요일'].apply(lambda x : 1 if (x==2) or (x==4) else 0)\n",
        "df['출근인원'] = df['정원']-(df['휴가자']+df['출장자']+df['재택근무자'])\n",
        "df['휴가비율'] = df['휴가자']/df['정원']\n",
        "df['출장비율'] = df['출장자']/df['정원']\n",
        "df['야근비율'] = df['야근자']/df['출근인원']\n",
        "df['재택비율'] = df['재택근무자']/df['정원']"
      ],
      "execution_count": null,
      "outputs": []
    },
    {
      "cell_type": "code",
      "metadata": {
        "id": "Qe-6emHenPvx"
      },
      "source": [
        "train = pd.concat([df.iloc[:train.shape[0], :], target_df], axis=1)\n",
        "test = df.iloc[train.shape[0]:, :]"
      ],
      "execution_count": null,
      "outputs": []
    },
    {
      "cell_type": "code",
      "metadata": {
        "id": "yajBqX3tqv14"
      },
      "source": [
        "train_1 = train[['일자', '요일', '월', '년', '휴가비율', '출장비율', '중식계']]\n",
        "train_2 = train[['일자', '요일', '월', '년', '야근_가능', '휴가비율', '출장비율', '야근비율', '석식계']]"
      ],
      "execution_count": null,
      "outputs": []
    },
    {
      "cell_type": "code",
      "metadata": {
        "id": "CEMvV8sB0DPh"
      },
      "source": [
        "def feature_pipeline(df) : \n",
        "    df['요일'] = df['일자'].dt.weekday\n",
        "    df['야근_가능'] = df['요일'].apply(lambda x : 1 if (x==2) or (x==4) else 0)\n",
        "    df['출근인원'] = df['정원']-(df['휴가자']+df['출장자']+df['재택근무자'])\n",
        "    df['휴가비율'] = df['휴가자']/df['정원']\n",
        "    df['출장비율'] = df['출장자']/df['정원']\n",
        "    df['야근비율'] = df['야근자']/df['출근인원']\n",
        "    df['재택비율'] = df['재택근무자']/df['정원']\n",
        "\n",
        "    X_pivot_train = pd.pivot_table(data = df,\n",
        "                values = ['정원', '휴가자', '출장자', '야근자', '재택근무자'],\n",
        "                index = '요일',\n",
        "                aggfunc = ['mean', 'min', 'max',\n",
        "                            'std', 'var']\n",
        "                )\n",
        "    X_columns = [agg + '_' + '요일' + '_' + column for agg, column in X_pivot_train.columns]\n",
        "    X_pivot_train.columns = X_columns\n",
        "    df = pd.merge(df, X_pivot_train, on ='요일')\n",
        "\n",
        "    X_pivot_train = pd.pivot_table(data = df,\n",
        "                values = ['정원', '휴가자', '출장자', '야근자', '재택근무자'],\n",
        "                index = '월',\n",
        "                aggfunc = ['mean', 'min', 'max',\n",
        "                            'std', 'var']\n",
        "                )\n",
        "    X_columns = [agg + '_' + '월' + '_' + column for agg, column in X_pivot_train.columns]\n",
        "    X_pivot_train.columns = X_columns\n",
        "    df = pd.merge(df, X_pivot_train, on ='월')\n",
        "\n",
        "    return df"
      ],
      "execution_count": null,
      "outputs": []
    },
    {
      "cell_type": "code",
      "metadata": {
        "id": "qqsXP3Ui0Egh"
      },
      "source": [
        "# train = feature_pipeline(train)\n",
        "# test = feature_pipeline(test)"
      ],
      "execution_count": null,
      "outputs": []
    },
    {
      "cell_type": "code",
      "metadata": {
        "id": "UNG5oMZV0EmQ"
      },
      "source": [
        "# train.drop(['조식', '월일', '일', '년'], inplace=True, axis=1)\n",
        "# test.drop(['조식', '일', '년'], inplace=True, axis=1)"
      ],
      "execution_count": null,
      "outputs": []
    },
    {
      "cell_type": "code",
      "metadata": {
        "id": "d8ZHwpUECwLJ"
      },
      "source": [
        "# train_1 = train.drop(['석식계'], axis=1)\n",
        "# train_2 = train.drop(['중식계'], axis=1)"
      ],
      "execution_count": null,
      "outputs": []
    },
    {
      "cell_type": "code",
      "metadata": {
        "id": "cMG81-Zd0EpL"
      },
      "source": [
        "reg = setup(data=train_1,\n",
        "            target='중식계',\n",
        "            numeric_imputation = 'mean',\n",
        "            normalize = True,\n",
        "            silent= True)"
      ],
      "execution_count": null,
      "outputs": []
    },
    {
      "cell_type": "code",
      "metadata": {
        "id": "p-TH5M-G0Es9"
      },
      "source": [
        "compare_models()"
      ],
      "execution_count": null,
      "outputs": []
    },
    {
      "cell_type": "code",
      "metadata": {
        "id": "9VwACtYG0FIi"
      },
      "source": [
        "best_5 = compare_models(sort='MAE', n_select=5)"
      ],
      "execution_count": null,
      "outputs": []
    },
    {
      "cell_type": "markdown",
      "metadata": {
        "id": "GWbTnyVCHSDa"
      },
      "source": [
        "![image.png](data:image/png;base64,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)"
      ]
    },
    {
      "cell_type": "code",
      "metadata": {
        "id": "LI6Gu_sIHccA"
      },
      "source": [
        "blended = blend_models(estimator_list= best_5, fold=5, optimize='MAE')\n",
        "pred_holdout = predict_model(blended)\n",
        "final_model = finalize_model(blended)\n",
        "pred1 = predict_model(final_model, test)"
      ],
      "execution_count": null,
      "outputs": []
    },
    {
      "cell_type": "code",
      "metadata": {
        "id": "JQeY4iFLHm3g"
      },
      "source": [
        ""
      ],
      "execution_count": null,
      "outputs": []
    },
    {
      "cell_type": "code",
      "metadata": {
        "id": "8IgMrp_JH13n"
      },
      "source": [
        "sample_submission = pd.read_csv(path+'sample_submission.csv')"
      ],
      "execution_count": null,
      "outputs": []
    },
    {
      "cell_type": "code",
      "metadata": {
        "id": "WbWj5LN-Hmyc"
      },
      "source": [
        "submission = sample_submission.copy()"
      ],
      "execution_count": null,
      "outputs": []
    },
    {
      "cell_type": "code",
      "metadata": {
        "id": "UNLa1rSiHmq_"
      },
      "source": [
        "submission['중식계'] = pred1['Label']"
      ],
      "execution_count": null,
      "outputs": []
    },
    {
      "cell_type": "code",
      "metadata": {
        "id": "KtJ9FqQeHmjL"
      },
      "source": [
        "reg = setup(data=train_2,\n",
        "            target='석식계',\n",
        "            numeric_imputation = 'mean',\n",
        "            normalize = True,\n",
        "            silent= True)"
      ],
      "execution_count": null,
      "outputs": []
    },
    {
      "cell_type": "code",
      "metadata": {
        "id": "nnwX1aVR0FMg"
      },
      "source": [
        "compare_models()"
      ],
      "execution_count": null,
      "outputs": []
    },
    {
      "cell_type": "code",
      "metadata": {
        "id": "kJ8eorUIIF8R"
      },
      "source": [
        "best_5 = compare_models(sort = 'MAE', n_select = 5)"
      ],
      "execution_count": null,
      "outputs": []
    },
    {
      "cell_type": "markdown",
      "metadata": {
        "id": "-N1gksUhHNPp"
      },
      "source": [
        "![image.png](data:image/png;base64,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)"
      ]
    },
    {
      "cell_type": "code",
      "metadata": {
        "id": "Y1ifzzKbIF3d"
      },
      "source": [
        "blended = blend_models(estimator_list = best_5, fold = 5, optimize = 'MAE')\n",
        "pred_holdout = predict_model(blended)\n",
        "final_model = finalize_model(blended)\n",
        "pred2 = predict_model(final_model, test)"
      ],
      "execution_count": null,
      "outputs": []
    },
    {
      "cell_type": "code",
      "metadata": {
        "id": "StAqyP5rIFzy"
      },
      "source": [
        "submission['석식계'] = pred2['Label']"
      ],
      "execution_count": null,
      "outputs": []
    },
    {
      "cell_type": "code",
      "metadata": {
        "id": "iDbZYkrdIFvi"
      },
      "source": [
        "submission"
      ],
      "execution_count": null,
      "outputs": []
    },
    {
      "cell_type": "code",
      "metadata": {
        "id": "9y0iJ7GHIFie"
      },
      "source": [
        "submission.to_csv('./20210608_02_holiday.csv', index=False)"
      ],
      "execution_count": null,
      "outputs": []
    },
    {
      "cell_type": "code",
      "metadata": {
        "id": "k7C5QP3NIFeL"
      },
      "source": [
        ""
      ],
      "execution_count": null,
      "outputs": []
    },
    {
      "cell_type": "code",
      "metadata": {
        "id": "0OUGyQ51IFZw"
      },
      "source": [
        ""
      ],
      "execution_count": null,
      "outputs": []
    },
    {
      "cell_type": "code",
      "metadata": {
        "id": "6VBXkQNuxp6S"
      },
      "source": [
        "# 나중에 한번 써보자\n",
        "# train['일자'].dt.week"
      ],
      "execution_count": null,
      "outputs": []
    },
    {
      "cell_type": "code",
      "metadata": {
        "id": "nkfM4V8AQTv9"
      },
      "source": [
        ""
      ],
      "execution_count": null,
      "outputs": []
    }
  ]
}